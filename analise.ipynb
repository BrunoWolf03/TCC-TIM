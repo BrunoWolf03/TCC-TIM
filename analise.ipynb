{
 "cells": [
  {
   "cell_type": "code",
   "execution_count": 1,
   "id": "4374610b",
   "metadata": {},
   "outputs": [],
   "source": [
    "import pandas as pd\n",
    "import numpy as np\n",
    "from scipy.stats import zscore\n",
    "from pandas.api.types import is_numeric_dtype, is_bool_dtype\n",
    "import seaborn as sns\n",
    "import matplotlib.pyplot as plt"
   ]
  },
  {
   "cell_type": "code",
   "execution_count": 2,
   "id": "ed963af2",
   "metadata": {},
   "outputs": [],
   "source": [
    "df = pd.read_parquet(r\"data/df_kpi_perf_2108_1510.parquet\", engine=\"pyarrow\")"
   ]
  },
  {
   "cell_type": "code",
   "execution_count": 5,
   "id": "ee5b3552",
   "metadata": {},
   "outputs": [
    {
     "name": "stdout",
     "output_type": "stream",
     "text": [
      "<class 'pandas.core.frame.DataFrame'>\n",
      "RangeIndex: 2095147 entries, 0 to 2095146\n",
      "Data columns (total 49 columns):\n",
      " #   Column                                 Dtype         \n",
      "---  ------                                 -----         \n",
      " 0   UF                                     object        \n",
      " 1   Region                                 object        \n",
      " 2   ANF                                    int64         \n",
      " 3   Municipality                           object        \n",
      " 4   Neighborhood                           object        \n",
      " 5   eNodeB                                 object        \n",
      " 6   Cell                                   object        \n",
      " 7   Data                                   datetime64[us]\n",
      " 8   TIM_ACC (%)                            float64       \n",
      " 9   TIM_ACC_ERAB (%)                       float64       \n",
      " 10  TIM_ACC_ERAB_DEN (Unid)                float64       \n",
      " 11  TIM_ACC_ERAB_NUM (Unid)                float64       \n",
      " 12  TIM_ACC_ERRC (%)                       float64       \n",
      " 13  TIM_ACC_ERRC_DEN (Unid)                float64       \n",
      " 14  TIM_ACC_ERRC_NUM (Unid)                float64       \n",
      " 15  TIM_BUFFER_MEAN_USER_DL_VOLTE (Unid)   float64       \n",
      " 16  TIM_CQI_MEAN (Unid)                    float64       \n",
      " 17  TIM_CQI_MEAN_DEN (Unid)                float64       \n",
      " 18  TIM_CQI_MEAN_NUM (Unid)                float64       \n",
      " 19  TIM_DISP_COUNTER_TOTAL (%)             float64       \n",
      " 20  TIM_DISP_COUNTER_TOTAL_DEN (s)         float64       \n",
      " 21  TIM_DISP_COUNTER_TOTAL_NUM (s)         float64       \n",
      " 22  TIM_DROP_ERAB (%)                      float64       \n",
      " 23  TIM_DROP_ERAB_DEN (Unid)               float64       \n",
      " 24  TIM_DROP_ERAB_NUM (Unid)               float64       \n",
      " 25  TIM_INTER_FREQ_HO_SUCC_OUT (%)         float64       \n",
      " 26  TIM_INTER_FREQ_HO_SUCC_OUT_DEN (Unid)  float64       \n",
      " 27  TIM_INTER_FREQ_HO_SUCC_OUT_NUM (Unid)  float64       \n",
      " 28  TIM_INTRA_FREQ_HO_SUCC_OUT (%)         float64       \n",
      " 29  TIM_INTRA_FREQ_HO_SUCC_OUT_DEN (Unid)  float64       \n",
      " 30  TIM_INTRA_FREQ_HO_SUCC_OUT_NUM (Unid)  float64       \n",
      " 31  TIM_IRAT_HO_SUCC_OUT (%)               float64       \n",
      " 32  TIM_IRAT_HO_SUCC_OUT_DEN (Unid)        float64       \n",
      " 33  TIM_IRAT_HO_SUCC_OUT_NUM (Unid)        float64       \n",
      " 34  TIM_PRB_AVAIL (Unid)                   float64       \n",
      " 35  TIM_PRB_UTIL_MEAN_DL (%)               float64       \n",
      " 36  TIM_PRB_UTIL_MEAN_DL_DEN (Unid)        float64       \n",
      " 37  TIM_PRB_UTIL_MEAN_DL_NUM (Unid)        float64       \n",
      " 38  TIM_PRB_UTIL_MEAN_UL (%)               float64       \n",
      " 39  TIM_PRB_UTIL_MEAN_UL_DEN (Unid)        float64       \n",
      " 40  TIM_PRB_UTIL_MEAN_UL_NUM (Unid)        float64       \n",
      " 41  TIM_THROU_USER_PDCP_DL (Kbps)          float64       \n",
      " 42  TIM_THROU_USER_PDCP_DL_DEN (s)         float64       \n",
      " 43  TIM_THROU_USER_PDCP_DL_NUM (Kb)        float64       \n",
      " 44  TIM_THROU_USER_PDCP_UL (Kbps)          float64       \n",
      " 45  TIM_THROU_USER_PDCP_UL_DEN (s)         float64       \n",
      " 46  TIM_THROU_USER_PDCP_UL_NUM (Kb)        float64       \n",
      " 47  TIM_USERS_RRC_CONN_MEAN_SUM (Unid)     float64       \n",
      " 48  TIM_VOLUME_DADOS_DL_ALLOP (KB)         float64       \n",
      "dtypes: datetime64[us](1), float64(41), int64(1), object(6)\n",
      "memory usage: 783.3+ MB\n"
     ]
    }
   ],
   "source": [
    "df.info()\n"
   ]
  },
  {
   "cell_type": "code",
   "execution_count": 4,
   "id": "70c5a45b",
   "metadata": {},
   "outputs": [
    {
     "data": {
      "application/vnd.microsoft.datawrangler.viewer.v0+json": {
       "columns": [
        {
         "name": "index",
         "rawType": "object",
         "type": "string"
        },
        {
         "name": "0",
         "rawType": "object",
         "type": "unknown"
        }
       ],
       "ref": "cf420e3c-b8ef-434f-a0b2-0f708f9c9a2f",
       "rows": [
        [
         "UF",
         "object"
        ],
        [
         "Region",
         "object"
        ],
        [
         "ANF",
         "int64"
        ],
        [
         "Municipality",
         "object"
        ],
        [
         "Neighborhood",
         "object"
        ],
        [
         "eNodeB",
         "object"
        ],
        [
         "Cell",
         "object"
        ],
        [
         "Data",
         "datetime64[us]"
        ],
        [
         "TIM_ACC (%)",
         "float64"
        ],
        [
         "TIM_ACC_ERAB (%)",
         "float64"
        ],
        [
         "TIM_ACC_ERAB_DEN (Unid)",
         "float64"
        ],
        [
         "TIM_ACC_ERAB_NUM (Unid)",
         "float64"
        ],
        [
         "TIM_ACC_ERRC (%)",
         "float64"
        ],
        [
         "TIM_ACC_ERRC_DEN (Unid)",
         "float64"
        ],
        [
         "TIM_ACC_ERRC_NUM (Unid)",
         "float64"
        ],
        [
         "TIM_BUFFER_MEAN_USER_DL_VOLTE (Unid)",
         "float64"
        ],
        [
         "TIM_CQI_MEAN (Unid)",
         "float64"
        ],
        [
         "TIM_CQI_MEAN_DEN (Unid)",
         "float64"
        ],
        [
         "TIM_CQI_MEAN_NUM (Unid)",
         "float64"
        ],
        [
         "TIM_DISP_COUNTER_TOTAL (%)",
         "float64"
        ],
        [
         "TIM_DISP_COUNTER_TOTAL_DEN (s)",
         "float64"
        ],
        [
         "TIM_DISP_COUNTER_TOTAL_NUM (s)",
         "float64"
        ],
        [
         "TIM_DROP_ERAB (%)",
         "float64"
        ],
        [
         "TIM_DROP_ERAB_DEN (Unid)",
         "float64"
        ],
        [
         "TIM_DROP_ERAB_NUM (Unid)",
         "float64"
        ],
        [
         "TIM_INTER_FREQ_HO_SUCC_OUT (%)",
         "float64"
        ],
        [
         "TIM_INTER_FREQ_HO_SUCC_OUT_DEN (Unid)",
         "float64"
        ],
        [
         "TIM_INTER_FREQ_HO_SUCC_OUT_NUM (Unid)",
         "float64"
        ],
        [
         "TIM_INTRA_FREQ_HO_SUCC_OUT (%)",
         "float64"
        ],
        [
         "TIM_INTRA_FREQ_HO_SUCC_OUT_DEN (Unid)",
         "float64"
        ],
        [
         "TIM_INTRA_FREQ_HO_SUCC_OUT_NUM (Unid)",
         "float64"
        ],
        [
         "TIM_IRAT_HO_SUCC_OUT (%)",
         "float64"
        ],
        [
         "TIM_IRAT_HO_SUCC_OUT_DEN (Unid)",
         "float64"
        ],
        [
         "TIM_IRAT_HO_SUCC_OUT_NUM (Unid)",
         "float64"
        ],
        [
         "TIM_PRB_AVAIL (Unid)",
         "float64"
        ],
        [
         "TIM_PRB_UTIL_MEAN_DL (%)",
         "float64"
        ],
        [
         "TIM_PRB_UTIL_MEAN_DL_DEN (Unid)",
         "float64"
        ],
        [
         "TIM_PRB_UTIL_MEAN_DL_NUM (Unid)",
         "float64"
        ],
        [
         "TIM_PRB_UTIL_MEAN_UL (%)",
         "float64"
        ],
        [
         "TIM_PRB_UTIL_MEAN_UL_DEN (Unid)",
         "float64"
        ],
        [
         "TIM_PRB_UTIL_MEAN_UL_NUM (Unid)",
         "float64"
        ],
        [
         "TIM_THROU_USER_PDCP_DL (Kbps)",
         "float64"
        ],
        [
         "TIM_THROU_USER_PDCP_DL_DEN (s)",
         "float64"
        ],
        [
         "TIM_THROU_USER_PDCP_DL_NUM (Kb)",
         "float64"
        ],
        [
         "TIM_THROU_USER_PDCP_UL (Kbps)",
         "float64"
        ],
        [
         "TIM_THROU_USER_PDCP_UL_DEN (s)",
         "float64"
        ],
        [
         "TIM_THROU_USER_PDCP_UL_NUM (Kb)",
         "float64"
        ],
        [
         "TIM_USERS_RRC_CONN_MEAN_SUM (Unid)",
         "float64"
        ],
        [
         "TIM_VOLUME_DADOS_DL_ALLOP (KB)",
         "float64"
        ]
       ],
       "shape": {
        "columns": 1,
        "rows": 49
       }
      },
      "text/plain": [
       "UF                                               object\n",
       "Region                                           object\n",
       "ANF                                               int64\n",
       "Municipality                                     object\n",
       "Neighborhood                                     object\n",
       "eNodeB                                           object\n",
       "Cell                                             object\n",
       "Data                                     datetime64[us]\n",
       "TIM_ACC (%)                                     float64\n",
       "TIM_ACC_ERAB (%)                                float64\n",
       "TIM_ACC_ERAB_DEN (Unid)                         float64\n",
       "TIM_ACC_ERAB_NUM (Unid)                         float64\n",
       "TIM_ACC_ERRC (%)                                float64\n",
       "TIM_ACC_ERRC_DEN (Unid)                         float64\n",
       "TIM_ACC_ERRC_NUM (Unid)                         float64\n",
       "TIM_BUFFER_MEAN_USER_DL_VOLTE (Unid)            float64\n",
       "TIM_CQI_MEAN (Unid)                             float64\n",
       "TIM_CQI_MEAN_DEN (Unid)                         float64\n",
       "TIM_CQI_MEAN_NUM (Unid)                         float64\n",
       "TIM_DISP_COUNTER_TOTAL (%)                      float64\n",
       "TIM_DISP_COUNTER_TOTAL_DEN (s)                  float64\n",
       "TIM_DISP_COUNTER_TOTAL_NUM (s)                  float64\n",
       "TIM_DROP_ERAB (%)                               float64\n",
       "TIM_DROP_ERAB_DEN (Unid)                        float64\n",
       "TIM_DROP_ERAB_NUM (Unid)                        float64\n",
       "TIM_INTER_FREQ_HO_SUCC_OUT (%)                  float64\n",
       "TIM_INTER_FREQ_HO_SUCC_OUT_DEN (Unid)           float64\n",
       "TIM_INTER_FREQ_HO_SUCC_OUT_NUM (Unid)           float64\n",
       "TIM_INTRA_FREQ_HO_SUCC_OUT (%)                  float64\n",
       "TIM_INTRA_FREQ_HO_SUCC_OUT_DEN (Unid)           float64\n",
       "TIM_INTRA_FREQ_HO_SUCC_OUT_NUM (Unid)           float64\n",
       "TIM_IRAT_HO_SUCC_OUT (%)                        float64\n",
       "TIM_IRAT_HO_SUCC_OUT_DEN (Unid)                 float64\n",
       "TIM_IRAT_HO_SUCC_OUT_NUM (Unid)                 float64\n",
       "TIM_PRB_AVAIL (Unid)                            float64\n",
       "TIM_PRB_UTIL_MEAN_DL (%)                        float64\n",
       "TIM_PRB_UTIL_MEAN_DL_DEN (Unid)                 float64\n",
       "TIM_PRB_UTIL_MEAN_DL_NUM (Unid)                 float64\n",
       "TIM_PRB_UTIL_MEAN_UL (%)                        float64\n",
       "TIM_PRB_UTIL_MEAN_UL_DEN (Unid)                 float64\n",
       "TIM_PRB_UTIL_MEAN_UL_NUM (Unid)                 float64\n",
       "TIM_THROU_USER_PDCP_DL (Kbps)                   float64\n",
       "TIM_THROU_USER_PDCP_DL_DEN (s)                  float64\n",
       "TIM_THROU_USER_PDCP_DL_NUM (Kb)                 float64\n",
       "TIM_THROU_USER_PDCP_UL (Kbps)                   float64\n",
       "TIM_THROU_USER_PDCP_UL_DEN (s)                  float64\n",
       "TIM_THROU_USER_PDCP_UL_NUM (Kb)                 float64\n",
       "TIM_USERS_RRC_CONN_MEAN_SUM (Unid)              float64\n",
       "TIM_VOLUME_DADOS_DL_ALLOP (KB)                  float64\n",
       "dtype: object"
      ]
     },
     "execution_count": 4,
     "metadata": {},
     "output_type": "execute_result"
    }
   ],
   "source": [
    "df.dtypes"
   ]
  },
  {
   "cell_type": "code",
   "execution_count": 6,
   "id": "d76a58e2",
   "metadata": {},
   "outputs": [
    {
     "data": {
      "application/vnd.microsoft.datawrangler.viewer.v0+json": {
       "columns": [
        {
         "name": "index",
         "rawType": "int64",
         "type": "integer"
        },
        {
         "name": "ANF",
         "rawType": "int64",
         "type": "integer"
        }
       ],
       "ref": "ca0c331a-acab-456c-964f-09c6b70c9ec3",
       "rows": [
        [
         "0",
         "21"
        ],
        [
         "1",
         "21"
        ],
        [
         "2",
         "21"
        ],
        [
         "3",
         "21"
        ],
        [
         "4",
         "21"
        ],
        [
         "5",
         "21"
        ],
        [
         "6",
         "21"
        ],
        [
         "7",
         "21"
        ],
        [
         "8",
         "21"
        ],
        [
         "9",
         "21"
        ],
        [
         "10",
         "21"
        ],
        [
         "11",
         "21"
        ],
        [
         "12",
         "21"
        ],
        [
         "13",
         "21"
        ],
        [
         "14",
         "21"
        ],
        [
         "15",
         "21"
        ],
        [
         "16",
         "21"
        ],
        [
         "17",
         "21"
        ],
        [
         "18",
         "21"
        ],
        [
         "19",
         "21"
        ],
        [
         "20",
         "21"
        ],
        [
         "21",
         "21"
        ],
        [
         "22",
         "21"
        ],
        [
         "23",
         "21"
        ],
        [
         "24",
         "21"
        ],
        [
         "25",
         "21"
        ],
        [
         "26",
         "21"
        ],
        [
         "27",
         "21"
        ],
        [
         "28",
         "21"
        ],
        [
         "29",
         "21"
        ],
        [
         "30",
         "21"
        ],
        [
         "31",
         "21"
        ],
        [
         "32",
         "21"
        ],
        [
         "33",
         "21"
        ],
        [
         "34",
         "21"
        ],
        [
         "35",
         "21"
        ],
        [
         "36",
         "21"
        ],
        [
         "37",
         "21"
        ],
        [
         "38",
         "21"
        ],
        [
         "39",
         "21"
        ],
        [
         "40",
         "21"
        ],
        [
         "41",
         "21"
        ],
        [
         "42",
         "21"
        ],
        [
         "43",
         "21"
        ],
        [
         "44",
         "21"
        ],
        [
         "45",
         "21"
        ],
        [
         "46",
         "21"
        ],
        [
         "47",
         "21"
        ],
        [
         "48",
         "21"
        ],
        [
         "49",
         "21"
        ]
       ],
       "shape": {
        "columns": 1,
        "rows": 2095147
       }
      },
      "text/plain": [
       "0          21\n",
       "1          21\n",
       "2          21\n",
       "3          21\n",
       "4          21\n",
       "           ..\n",
       "2095142    24\n",
       "2095143    24\n",
       "2095144    24\n",
       "2095145    24\n",
       "2095146    24\n",
       "Name: ANF, Length: 2095147, dtype: int64"
      ]
     },
     "execution_count": 6,
     "metadata": {},
     "output_type": "execute_result"
    }
   ],
   "source": [
    "df['ANF']"
   ]
  },
  {
   "cell_type": "markdown",
   "id": "05807803",
   "metadata": {},
   "source": [
    "### Clustering "
   ]
  },
  {
   "cell_type": "code",
   "execution_count": null,
   "id": "bc3fc36c",
   "metadata": {},
   "outputs": [],
   "source": []
  },
  {
   "cell_type": "code",
   "execution_count": null,
   "id": "7925c9f9",
   "metadata": {},
   "outputs": [],
   "source": []
  },
  {
   "cell_type": "code",
   "execution_count": null,
   "id": "c29ccfb8",
   "metadata": {},
   "outputs": [],
   "source": []
  },
  {
   "cell_type": "code",
   "execution_count": null,
   "id": "b6bac357",
   "metadata": {},
   "outputs": [],
   "source": []
  }
 ],
 "metadata": {
  "kernelspec": {
   "display_name": "venv",
   "language": "python",
   "name": "python3"
  },
  "language_info": {
   "codemirror_mode": {
    "name": "ipython",
    "version": 3
   },
   "file_extension": ".py",
   "mimetype": "text/x-python",
   "name": "python",
   "nbconvert_exporter": "python",
   "pygments_lexer": "ipython3",
   "version": "3.12.3"
  }
 },
 "nbformat": 4,
 "nbformat_minor": 5
}
