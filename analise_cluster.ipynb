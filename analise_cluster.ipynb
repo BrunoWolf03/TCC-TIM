{
 "cells": [
  {
   "cell_type": "markdown",
   "metadata": {},
   "source": [
    "# Visualização de Clusters Fuzzy\n",
    "Adaptação do código para plotar clusters fuzzy usando dados de throughput e utilização de PRB"
   ]
  },
  {
   "cell_type": "code",
   "execution_count": 44,
   "metadata": {},
   "outputs": [],
   "source": [
    "# Importar bibliotecas\n",
    "import pandas as pd\n",
    "import matplotlib.pyplot as plt\n",
    "import matplotlib.cm as cm\n",
    "import numpy as np"
   ]
  },
  {
   "cell_type": "code",
   "execution_count": 45,
   "metadata": {},
   "outputs": [
    {
     "name": "stdout",
     "output_type": "stream",
     "text": [
      "               Data        Grupo Detentora  Vendor     eNodeB            Cell  \\\n",
      "0  2025-09-15 00:00  LMS_UFF_TNE       TIM  HUAWEI  4G-BRBRJ0  4G-BRBRJ0-07-A   \n",
      "1  2025-09-15 00:00  LMS_UFF_TNE       TIM  HUAWEI  4G-BRBRJ0  4G-BRBRJ0-07-B   \n",
      "2  2025-09-15 00:00  LMS_UFF_TNE       TIM  HUAWEI  4G-BRBRJ0  4G-BRBRJ0-07-C   \n",
      "3  2025-09-15 00:00  LMS_UFF_TNE       TIM  HUAWEI  4G-BRBRJ0  4G-BRBRJ0-26-A   \n",
      "4  2025-09-15 00:00  LMS_UFF_TNE       TIM  HUAWEI  4G-BRBRJ0  4G-BRBRJ0-26-B   \n",
      "\n",
      "   TIM_PRB_AVAIL (Unid)  TIM_PRB_UTIL_MEAN_DL (%)  \\\n",
      "0                  50.0                     4.544   \n",
      "1                  50.0                     5.398   \n",
      "2                  50.0                     4.316   \n",
      "3                 100.0                     0.935   \n",
      "4                 100.0                     0.892   \n",
      "\n",
      "   TIM_PRB_UTIL_MEAN_DL_DEN (Unid)  TIM_PRB_UTIL_MEAN_DL_NUM (Unid)  ...  \\\n",
      "0                             50.0                            227.2  ...   \n",
      "1                             50.0                            269.9  ...   \n",
      "2                             50.0                            215.8  ...   \n",
      "3                            100.0                             93.5  ...   \n",
      "4                            100.0                             89.2  ...   \n",
      "\n",
      "   TIM_VOLUME_DADOS_DLUL_ALLOP (KB)  TIM_VOLUME_DADOS_DL_ALLOP (KB)  \\\n",
      "0                     226689.593750                   207852.999023   \n",
      "1                     371498.003906                   333790.555664   \n",
      "2                      92756.415039                    80417.963867   \n",
      "3                       7556.021484                     4790.798828   \n",
      "4                        832.632812                      725.502930   \n",
      "\n",
      "   SET_NUMBER_0  SET_NUMBER_1  SET_NUMBER_2  SET_NUMBER_3  cluster_fuzzy  \\\n",
      "0             0             1             0             0              0   \n",
      "1             0             1             0             0              0   \n",
      "2             0             1             0             0              0   \n",
      "3             0             1             0             0              2   \n",
      "4             0             1             0             0              2   \n",
      "\n",
      "   pertinencia_cluster_0  pertinencia_cluster_1  pertinencia_cluster_2  \n",
      "0               0.441625               0.116811               0.441564  \n",
      "1               0.444558               0.110946               0.444496  \n",
      "2               0.439025               0.122009               0.438967  \n",
      "3               0.423445               0.153075               0.423480  \n",
      "4               0.423974               0.152016               0.424010  \n",
      "\n",
      "[5 rows x 24 columns]\n",
      "\n",
      "Shape do dataset: (20172, 24)\n",
      "\n",
      "Colunas disponíveis: ['Data', 'Grupo', 'Detentora', 'Vendor', 'eNodeB', 'Cell', 'TIM_PRB_AVAIL (Unid)', 'TIM_PRB_UTIL_MEAN_DL (%)', 'TIM_PRB_UTIL_MEAN_DL_DEN (Unid)', 'TIM_PRB_UTIL_MEAN_DL_NUM (Unid)', 'TIM_THROU_USER_PDCP_DL (Kbps)', 'TIM_THROU_USER_PDCP_DL_DEN (ms)', 'TIM_THROU_USER_PDCP_DL_NUM (bit)', 'TIM_USERS_RRC_CONN_MEAN_SUM_ALLOP (Unid)', 'TIM_VOLUME_DADOS_DLUL_ALLOP (KB)', 'TIM_VOLUME_DADOS_DL_ALLOP (KB)', 'SET_NUMBER_0', 'SET_NUMBER_1', 'SET_NUMBER_2', 'SET_NUMBER_3', 'cluster_fuzzy', 'pertinencia_cluster_0', 'pertinencia_cluster_1', 'pertinencia_cluster_2']\n"
     ]
    }
   ],
   "source": [
    "# Carregar o dataset\n",
    "file_path = \"data/df_agrupamentofuzzy_3.csv\"\n",
    "df = pd.read_csv(file_path)\n",
    "\n",
    "# Verificar as primeiras linhas\n",
    "print(df.head())\n",
    "print(f\"\\nShape do dataset: {df.shape}\")\n",
    "print(f\"\\nColunas disponíveis: {list(df.columns)}\")"
   ]
  },
  {
   "cell_type": "code",
   "execution_count": 46,
   "metadata": {},
   "outputs": [
    {
     "name": "stdout",
     "output_type": "stream",
     "text": [
      "Colunas SET encontradas: ['SET_NUMBER_0', 'SET_NUMBER_1', 'SET_NUMBER_2', 'SET_NUMBER_3']\n",
      "\n",
      "Valores únicos de 'set': [np.int64(0), np.int64(1), np.int64(2), np.int64(3)]\n",
      "Valores únicos de 'cluster_fuzzy': [np.int64(0), np.int64(1), np.int64(2)]\n"
     ]
    },
    {
     "name": "stderr",
     "output_type": "stream",
     "text": [
      "<>:11: SyntaxWarning: invalid escape sequence '\\d'\n",
      "<>:11: SyntaxWarning: invalid escape sequence '\\d'\n",
      "C:\\Users\\PUC\\AppData\\Local\\Temp\\ipykernel_6520\\1308015052.py:11: SyntaxWarning: invalid escape sequence '\\d'\n",
      "  df['set'] = df[set_columns].idxmax(axis=1).str.extract('(\\d+)').astype(int)\n"
     ]
    }
   ],
   "source": [
    "# Definir as variáveis x e y\n",
    "x_col = 'TIM_THROU_USER_PDCP_DL (Kbps)'\n",
    "y_col = 'TIM_PRB_UTIL_MEAN_DL (%)'\n",
    "cluster_col = 'cluster_fuzzy'\n",
    "\n",
    "# Obter a variável 'set' a partir do one-hot encoding\n",
    "set_columns = [col for col in df.columns if col.startswith('SET_NUMBER_')]\n",
    "print(f\"Colunas SET encontradas: {set_columns}\")\n",
    "\n",
    "# Criar a variável 'set' a partir do one-hot encoding\n",
    "df['set'] = df[set_columns].idxmax(axis=1).str.extract('(\\d+)').astype(int)\n",
    "\n",
    "print(f\"\\nValores únicos de 'set': {sorted(df['set'].unique())}\")\n",
    "print(f\"Valores únicos de 'cluster_fuzzy': {sorted(df[cluster_col].unique())}\")"
   ]
  },
  {
   "cell_type": "code",
   "execution_count": 47,
   "metadata": {},
   "outputs": [
    {
     "name": "stdout",
     "output_type": "stream",
     "text": [
      "Número de pessoas em cada cluster:\n",
      "cluster_fuzzy\n",
      "0    9293\n",
      "1    4359\n",
      "2    6520\n",
      "Name: count, dtype: int64\n"
     ]
    }
   ],
   "source": [
    "cluster_col = \"cluster_fuzzy\"\n",
    "\n",
    "# Contar número de pessoas em cada cluster\n",
    "cluster_counts = df[cluster_col].value_counts().sort_index()  # ordena por cluster\n",
    "print(\"Número de pessoas em cada cluster:\")\n",
    "print(cluster_counts)"
   ]
  },
  {
   "cell_type": "code",
   "execution_count": 48,
   "metadata": {},
   "outputs": [
    {
     "name": "stdout",
     "output_type": "stream",
     "text": [
      "Estatísticas por cluster:\n",
      "\n",
      "Cluster 0:\n",
      "  Quantidade de pontos: 9293\n",
      "  Throughput médio: 19804.54 Kbps\n",
      "  Utilização PRB média: 14.91%\n",
      "  SETs presentes: [np.int64(0), np.int64(1), np.int64(2), np.int64(3)]\n",
      "\n",
      "Cluster 1:\n",
      "  Quantidade de pontos: 4359\n",
      "  Throughput médio: 17220.12 Kbps\n",
      "  Utilização PRB média: 63.45%\n",
      "  SETs presentes: [np.int64(0), np.int64(1), np.int64(2), np.int64(3)]\n",
      "\n",
      "Cluster 2:\n",
      "  Quantidade de pontos: 6520\n",
      "  Throughput médio: 33587.86 Kbps\n",
      "  Utilização PRB média: 11.60%\n",
      "  SETs presentes: [np.int64(0), np.int64(1), np.int64(2), np.int64(3)]\n",
      "\n",
      "Cluster 3:\n",
      "  Quantidade de pontos: 0\n",
      "  Throughput médio: nan Kbps\n",
      "  Utilização PRB média: nan%\n",
      "  SETs presentes: []\n",
      "\n",
      "Cluster 4:\n",
      "  Quantidade de pontos: 0\n",
      "  Throughput médio: nan Kbps\n",
      "  Utilização PRB média: nan%\n",
      "  SETs presentes: []\n"
     ]
    }
   ],
   "source": [
    "# Estatísticas por cluster\n",
    "print(\"Estatísticas por cluster:\")\n",
    "for cluster in clusters:\n",
    "    subset = df[df[cluster_col] == cluster]\n",
    "    print(f\"\\nCluster {cluster}:\")\n",
    "    print(f\"  Quantidade de pontos: {len(subset)}\")\n",
    "    print(f\"  Throughput médio: {subset[x_col].mean():.2f} Kbps\")\n",
    "    print(f\"  Utilização PRB média: {subset[y_col].mean():.2f}%\")\n",
    "    print(f\"  SETs presentes: {sorted(subset['set'].unique())}\")"
   ]
  },
  {
   "cell_type": "code",
   "execution_count": 49,
   "metadata": {},
   "outputs": [
    {
     "data": {
      "text/plain": [
       "<Figure size 1000x600 with 0 Axes>"
      ]
     },
     "metadata": {},
     "output_type": "display_data"
    },
    {
     "data": {
      "image/png": "[encoded data removed]",
      "text/plain": [
       "<Figure size 640x480 with 1 Axes>"
      ]
     },
     "metadata": {},
     "output_type": "display_data"
    }
   ],
   "source": [
    "# Gráfico adicional: distribuição dos SETs por cluster\n",
    "plt.figure(figsize=(10, 6))\n",
    "\n",
    "set_cluster_counts = df.groupby([cluster_col, 'set']).size().unstack(fill_value=0)\n",
    "set_cluster_counts.plot(kind='bar', stacked=True, colormap='Set3')\n",
    "\n",
    "plt.title('Distribuição dos SETs por Cluster')\n",
    "plt.xlabel('Cluster')\n",
    "plt.ylabel('Quantidade de pontos')\n",
    "plt.legend(title='SET', bbox_to_anchor=(1.05, 1), loc='upper left')\n",
    "plt.xticks(rotation=0)\n",
    "plt.tight_layout()\n",
    "plt.show()"
   ]
  }
 ],
 "metadata": {
  "kernelspec": {
   "display_name": "venv",
   "language": "python",
   "name": "python3"
  },
  "language_info": {
   "codemirror_mode": {
    "name": "ipython",
    "version": 3
   },
   "file_extension": ".py",
   "mimetype": "text/x-python",
   "name": "python",
   "nbconvert_exporter": "python",
   "pygments_lexer": "ipython3",
   "version": "3.12.3"
  }
 },
 "nbformat": 4,
 "nbformat_minor": 4
}
