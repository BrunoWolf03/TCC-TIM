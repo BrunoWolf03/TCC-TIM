{
 "cells": [
  {
   "cell_type": "code",
   "execution_count": 25,
   "id": "b3bbae09",
   "metadata": {},
   "outputs": [],
   "source": [
    "import pandas as pd\n",
    "import numpy as np\n",
    "import seaborn as sns\n",
    "import matplotlib.pyplot as plt\n",
    "from sklearn.preprocessing import StandardScaler\n",
    "from sklearn.decomposition import PCA\n",
    "from sklearn.metrics import silhouette_score\n",
    "import skfuzzy as fuzz\n",
    "import math\n",
    "import os"
   ]
  },
  {
   "cell_type": "code",
   "execution_count": 26,
   "id": "bd47debe",
   "metadata": {},
   "outputs": [],
   "source": [
    "df = pd.read_parquet(r\"data/merged_output.parquet\", engine=\"pyarrow\")"
   ]
  },
  {
   "cell_type": "code",
   "execution_count": 27,
   "id": "04dfad7d",
   "metadata": {},
   "outputs": [
    {
     "name": "stdout",
     "output_type": "stream",
     "text": [
      "                           Coluna  Qtd_NaNs\n",
      "0                            neid         0\n",
      "1                     LOCALCELLID         0\n",
      "2                         dateday         0\n",
      "3                        DLEARFCN         0\n",
      "4             cellreselpriority_x         0\n",
      "5                     qrxlevmin_x         0\n",
      "6                 snonintrasearch         0\n",
      "7                    thrshservlow         0\n",
      "8             cellreselpriority_y         0\n",
      "9                     qoffsetfreq         0\n",
      "10                    qrxlevmin_y   2774541\n",
      "11                    threshxhigh         0\n",
      "12                     threshxlow         0\n",
      "13                       orig_idx         0\n",
      "14  TIM_THROU_USER_PDCP_DL (Kbps)    559923\n",
      "15       TIM_PRB_UTIL_MEAN_DL (%)    556999\n"
     ]
    }
   ],
   "source": [
    "na_counts = df.isna().sum()\n",
    "na_counts_df = na_counts.reset_index()\n",
    "na_counts_df.columns = ['Coluna', 'Qtd_NaNs']\n",
    "print(na_counts_df)\n",
    "\n",
    "df = df.dropna(axis=0)"
   ]
  },
  {
   "cell_type": "code",
   "execution_count": 28,
   "id": "3d8e05f1",
   "metadata": {},
   "outputs": [
    {
     "name": "stdout",
     "output_type": "stream",
     "text": [
      "Partição 1 salva com 119388 linhas\n",
      "Partição 2 salva com 119388 linhas\n",
      "Partição 3 salva com 119388 linhas\n",
      "Partição 4 salva com 119388 linhas\n",
      "Partição 5 salva com 119388 linhas\n",
      "Partição 6 salva com 119388 linhas\n",
      "Partição 7 salva com 119388 linhas\n",
      "Partição 8 salva com 119388 linhas\n",
      "Partição 9 salva com 119388 linhas\n",
      "Partição 10 salva com 119384 linhas\n"
     ]
    }
   ],
   "source": [
    "tamanho_particao = math.ceil(len(df) * 0.1)\n",
    "\n",
    "num_particao = 1\n",
    "n_clusters = 2\n",
    "\n",
    "for i in range(0, len(df), tamanho_particao):\n",
    "    particao = df.iloc[i:i + tamanho_particao].copy()\n",
    "\n",
    "    num_cols = particao.select_dtypes(include=\"number\").columns\n",
    "    X_scaled = StandardScaler().fit_transform(particao[num_cols])\n",
    "\n",
    "    X_scaled_T = X_scaled.T\n",
    "\n",
    "    cntr, u, u0, d, jm, p, fpc = fuzz.cluster.cmeans(\n",
    "        X_scaled_T, c=n_clusters, m=2, error=0.005, maxiter=1000, init=None\n",
    "    )\n",
    "\n",
    "    labels = u.argmax(axis=0)\n",
    "    particao[\"cluster_fuzzy\"] = labels\n",
    "\n",
    "    # Adiciona o grau de pertencimento de cada cluster como coluna\n",
    "    for idx in range(n_clusters):\n",
    "        particao[f\"pertinencia_cluster_{idx}\"] = u[idx]\n",
    "\n",
    "    nome_arquivo = os.path.join(\"data\", f\"particao_{num_particao}.csv\")\n",
    "    particao.to_csv(nome_arquivo, index=False)\n",
    "    print(f\"Partição {num_particao} salva com {len(particao)} linhas\")\n",
    "    num_particao += 1"
   ]
  },
  {
   "cell_type": "code",
   "execution_count": 29,
   "id": "cb908e92",
   "metadata": {},
   "outputs": [
    {
     "name": "stdout",
     "output_type": "stream",
     "text": [
      "Gráfico salvo em results\\particao_1_fuzzy.png\n",
      "Gráfico salvo em results\\particao_2_fuzzy.png\n",
      "Gráfico salvo em results\\particao_3_fuzzy.png\n",
      "Gráfico salvo em results\\particao_4_fuzzy.png\n",
      "Gráfico salvo em results\\particao_5_fuzzy.png\n",
      "Gráfico salvo em results\\particao_6_fuzzy.png\n",
      "Gráfico salvo em results\\particao_7_fuzzy.png\n",
      "Gráfico salvo em results\\particao_8_fuzzy.png\n",
      "Gráfico salvo em results\\particao_9_fuzzy.png\n",
      "Gráfico salvo em results\\particao_10_fuzzy.png\n"
     ]
    }
   ],
   "source": [
    "# Lista das partições\n",
    "particoes = [f\"data/particao_{i}.csv\" for i in range(1, 11)]\n",
    "\n",
    "# Criar pasta results se não existir\n",
    "os.makedirs(\"results\", exist_ok=True)\n",
    "\n",
    "for caminho in particoes:\n",
    "    df = pd.read_csv(caminho, engine=\"pyarrow\")\n",
    "\n",
    "    if not all(col in df.columns for col in ['cluster_fuzzy']):\n",
    "        print(f\"ERROR: {caminho} não possui pca1, pca2 e cluster_fuzzy. Pulando.\")\n",
    "        continue\n",
    "\n",
    "    plt.figure(figsize=(8, 6))\n",
    "    plt.scatter(df['TIM_THROU_USER_PDCP_DL (Kbps)'], df['TIM_PRB_UTIL_MEAN_DL (%)'], c=df['cluster_fuzzy'], cmap='viridis', s=10)\n",
    "    plt.title(f'Fuzzy C Means Throughput vs PRB util - {os.path.basename(caminho)}')\n",
    "    plt.xlabel('Thoruput DL (Kbps)')\n",
    "    plt.ylabel('PRB Util Mean DL (%)')\n",
    "    \n",
    "\n",
    "    # Salvar gráfico em results\n",
    "    nome_saida = os.path.join(\"results\", f\"{os.path.basename(caminho).replace('.csv', '')}_fuzzy.png\")\n",
    "    plt.savefig(nome_saida, dpi=300, bbox_inches=\"tight\")\n",
    "    plt.close()\n",
    "\n",
    "    print(f\"Gráfico salvo em {nome_saida}\")"
   ]
  }
 ],
 "metadata": {
  "kernelspec": {
   "display_name": "venv",
   "language": "python",
   "name": "python3"
  },
  "language_info": {
   "codemirror_mode": {
    "name": "ipython",
    "version": 3
   },
   "file_extension": ".py",
   "mimetype": "text/x-python",
   "name": "python",
   "nbconvert_exporter": "python",
   "pygments_lexer": "ipython3",
   "version": "3.12.3"
  }
 },
 "nbformat": 4,
 "nbformat_minor": 5
}
